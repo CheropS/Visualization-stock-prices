{
 "cells": [
  {
   "cell_type": "markdown",
   "metadata": {},
   "source": [
    "# Multiple LInear Regression Model\n",
    "## Mimicking the process of building our trading model of SPY, base on the historical data of different stock markets. "
   ]
  },
  {
   "cell_type": "code",
   "execution_count": 2,
   "metadata": {},
   "outputs": [],
   "source": [
    "import pandas as pd\n",
    "import statsmodels.formula.api as smf\n",
    "import numpy as np\n",
    "import matplotlib.pyplot as plt\n",
    "%matplotlib inline"
   ]
  },
  {
   "cell_type": "code",
   "execution_count": 3,
   "metadata": {},
   "outputs": [],
   "source": [
    "import warnings \n",
    "warnings.filterwarnings(\"ignore\")"
   ]
  },
  {
   "cell_type": "code",
   "execution_count": 4,
   "metadata": {},
   "outputs": [],
   "source": [
    "#Import all stock market data into DataFrame\n",
    "aord = pd.read_csv('data/indice/ALLOrdinary.csv')\n",
    "nikkei = pd.read_csv('data/indice/Nikkei225.csv')\n",
    "hsi = pd.read_csv('data/indice/HSI.csv')\n",
    "daxi = pd.read_csv('data/indice/DAXI.csv')\n",
    "cac40 = pd.read_csv('data/indice/CAC40.csv')\n",
    "sp500 = pd.read_csv('data/indice/SP500.csv')\n",
    "dji = pd.read_csv('data/indice/DJI.csv')\n",
    "nasdaq = pd.read_csv('data/indice/nasdaq_composite.csv')\n",
    "spy = pd.read_csv('data/indice/SPY.csv')"
   ]
  },
  {
   "cell_type": "code",
   "execution_count": 5,
   "metadata": {},
   "outputs": [
    {
     "data": {
      "text/html": [
       "<div>\n",
       "<style scoped>\n",
       "    .dataframe tbody tr th:only-of-type {\n",
       "        vertical-align: middle;\n",
       "    }\n",
       "\n",
       "    .dataframe tbody tr th {\n",
       "        vertical-align: top;\n",
       "    }\n",
       "\n",
       "    .dataframe thead th {\n",
       "        text-align: right;\n",
       "    }\n",
       "</style>\n",
       "<table border=\"1\" class=\"dataframe\">\n",
       "  <thead>\n",
       "    <tr style=\"text-align: right;\">\n",
       "      <th></th>\n",
       "      <th>Date</th>\n",
       "      <th>Open</th>\n",
       "      <th>High</th>\n",
       "      <th>Low</th>\n",
       "      <th>Close</th>\n",
       "      <th>Adj Close</th>\n",
       "      <th>Volume</th>\n",
       "    </tr>\n",
       "  </thead>\n",
       "  <tbody>\n",
       "    <tr>\n",
       "      <th>0</th>\n",
       "      <td>2008-01-02</td>\n",
       "      <td>2653.909912</td>\n",
       "      <td>2661.500000</td>\n",
       "      <td>2597.810059</td>\n",
       "      <td>2609.629883</td>\n",
       "      <td>2609.629883</td>\n",
       "      <td>2076690000</td>\n",
       "    </tr>\n",
       "    <tr>\n",
       "      <th>1</th>\n",
       "      <td>2008-01-03</td>\n",
       "      <td>2611.959961</td>\n",
       "      <td>2624.270020</td>\n",
       "      <td>2592.179932</td>\n",
       "      <td>2602.679932</td>\n",
       "      <td>2602.679932</td>\n",
       "      <td>1970200000</td>\n",
       "    </tr>\n",
       "    <tr>\n",
       "      <th>2</th>\n",
       "      <td>2008-01-04</td>\n",
       "      <td>2571.080078</td>\n",
       "      <td>2571.080078</td>\n",
       "      <td>2502.679932</td>\n",
       "      <td>2504.649902</td>\n",
       "      <td>2504.649902</td>\n",
       "      <td>2516310000</td>\n",
       "    </tr>\n",
       "    <tr>\n",
       "      <th>3</th>\n",
       "      <td>2008-01-07</td>\n",
       "      <td>2514.149902</td>\n",
       "      <td>2521.620117</td>\n",
       "      <td>2471.229980</td>\n",
       "      <td>2499.459961</td>\n",
       "      <td>2499.459961</td>\n",
       "      <td>2600100000</td>\n",
       "    </tr>\n",
       "    <tr>\n",
       "      <th>4</th>\n",
       "      <td>2008-01-08</td>\n",
       "      <td>2506.969971</td>\n",
       "      <td>2527.419922</td>\n",
       "      <td>2440.510010</td>\n",
       "      <td>2440.510010</td>\n",
       "      <td>2440.510010</td>\n",
       "      <td>2566480000</td>\n",
       "    </tr>\n",
       "  </tbody>\n",
       "</table>\n",
       "</div>"
      ],
      "text/plain": [
       "         Date         Open         High          Low        Close  \\\n",
       "0  2008-01-02  2653.909912  2661.500000  2597.810059  2609.629883   \n",
       "1  2008-01-03  2611.959961  2624.270020  2592.179932  2602.679932   \n",
       "2  2008-01-04  2571.080078  2571.080078  2502.679932  2504.649902   \n",
       "3  2008-01-07  2514.149902  2521.620117  2471.229980  2499.459961   \n",
       "4  2008-01-08  2506.969971  2527.419922  2440.510010  2440.510010   \n",
       "\n",
       "     Adj Close      Volume  \n",
       "0  2609.629883  2076690000  \n",
       "1  2602.679932  1970200000  \n",
       "2  2504.649902  2516310000  \n",
       "3  2499.459961  2600100000  \n",
       "4  2440.510010  2566480000  "
      ]
     },
     "execution_count": 5,
     "metadata": {},
     "output_type": "execute_result"
    }
   ],
   "source": [
    "nasdaq.head()"
   ]
  },
  {
   "cell_type": "markdown",
   "metadata": {},
   "source": [
    "Showing the first five rows of the nasdaq data including adjusted close and number of stock traded on that day"
   ]
  },
  {
   "cell_type": "markdown",
   "metadata": {},
   "source": [
    "## Step 1: Data Munging"
   ]
  },
  {
   "cell_type": "code",
   "execution_count": 6,
   "metadata": {},
   "outputs": [],
   "source": [
    "# Due to the timezone issues, we extract and calculate appropriate stock market data for analysis\n",
    "# Indicepanel is the DataFrame of our trading model\n",
    "indicepanel=pd.DataFrame(index=spy.index)\n",
    "\n",
    "indicepanel['spy']=spy['Open'].shift(-1)-spy['Open']\n",
    "indicepanel['spy_lag1']=indicepanel['spy'].shift(1)\n",
    "indicepanel['sp500']=sp500[\"Open\"]-sp500['Open'].shift(1)\n",
    "indicepanel['nasdaq']=nasdaq['Open']-nasdaq['Open'].shift(1)\n",
    "indicepanel['dji']=dji['Open']-dji['Open'].shift(1)\n",
    "\n",
    "indicepanel['cac40']=cac40['Open']-cac40['Open'].shift(1)\n",
    "indicepanel['daxi']=daxi['Open']-daxi['Open'].shift(1)\n",
    "\n",
    "indicepanel['aord']=aord['Close']-aord['Open']\n",
    "indicepanel['hsi']=hsi['Close']-hsi['Open']\n",
    "indicepanel['nikkei']=nikkei['Close']-nikkei['Open']\n",
    "indicepanel['Price']=spy['Open']"
   ]
  },
  {
   "cell_type": "code",
   "execution_count": null,
   "metadata": {},
   "outputs": [],
   "source": [
    "#"
   ]
  },
  {
   "cell_type": "markdown",
   "metadata": {},
   "source": []
  }
 ],
 "metadata": {
  "kernelspec": {
   "display_name": "Python 3",
   "language": "python",
   "name": "python3"
  },
  "language_info": {
   "codemirror_mode": {
    "name": "ipython",
    "version": 3
   },
   "file_extension": ".py",
   "mimetype": "text/x-python",
   "name": "python",
   "nbconvert_exporter": "python",
   "pygments_lexer": "ipython3",
   "version": "3.10.12"
  }
 },
 "nbformat": 4,
 "nbformat_minor": 2
}
