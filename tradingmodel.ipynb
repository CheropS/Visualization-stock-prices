{
 "cells": [
  {
   "cell_type": "markdown",
   "metadata": {},
   "source": [
    "# Multiple LInear Regression Model\n",
    "## Mimicking the process of building our trading model of SPY, base on the historical data of different stock markets. "
   ]
  },
  {
   "cell_type": "code",
   "execution_count": 2,
   "metadata": {},
   "outputs": [],
   "source": [
    "import pandas as pd\n",
    "import statsmodels.formula.api as smf\n",
    "import numpy as np\n",
    "import matplotlib.pyplot as plt\n",
    "%matplotlib inline"
   ]
  },
  {
   "cell_type": "code",
   "execution_count": 3,
   "metadata": {},
   "outputs": [],
   "source": [
    "import warnings \n",
    "warnings.filterwarnings(\"ignore\")"
   ]
  },
  {
   "cell_type": "code",
   "execution_count": 4,
   "metadata": {},
   "outputs": [],
   "source": [
    "#Import all stock market data into DataFrame\n",
    "aord = pd.read_csv('data/indice/ALLOrdinary.csv')\n",
    "nikkei = pd.read_csv('data/indice/Nikkei225.csv')\n",
    "hsi = pd.read_csv('data/indice/HSI.csv')\n",
    "daxi = pd.read_csv('data/indice/DAXI.csv')\n",
    "cac40 = pd.read_csv('data/indice/CAC40.csv')\n",
    "sp500 = pd.read_csv('data/indice/SP500.csv')\n",
    "dji = pd.read_csv('data/indice/DJI.csv')\n",
    "nasdaq = pd.read_csv('data/indice/nasdaq_composite.csv')\n",
    "spy = pd.read_csv('data/indice/SPY.csv')"
   ]
  },
  {
   "cell_type": "code",
   "execution_count": 5,
   "metadata": {},
   "outputs": [
    {
     "data": {
      "text/html": [
       "<div>\n",
       "<style scoped>\n",
       "    .dataframe tbody tr th:only-of-type {\n",
       "        vertical-align: middle;\n",
       "    }\n",
       "\n",
       "    .dataframe tbody tr th {\n",
       "        vertical-align: top;\n",
       "    }\n",
       "\n",
       "    .dataframe thead th {\n",
       "        text-align: right;\n",
       "    }\n",
       "</style>\n",
       "<table border=\"1\" class=\"dataframe\">\n",
       "  <thead>\n",
       "    <tr style=\"text-align: right;\">\n",
       "      <th></th>\n",
       "      <th>Date</th>\n",
       "      <th>Open</th>\n",
       "      <th>High</th>\n",
       "      <th>Low</th>\n",
       "      <th>Close</th>\n",
       "      <th>Adj Close</th>\n",
       "      <th>Volume</th>\n",
       "    </tr>\n",
       "  </thead>\n",
       "  <tbody>\n",
       "    <tr>\n",
       "      <th>0</th>\n",
       "      <td>2008-01-02</td>\n",
       "      <td>2653.909912</td>\n",
       "      <td>2661.500000</td>\n",
       "      <td>2597.810059</td>\n",
       "      <td>2609.629883</td>\n",
       "      <td>2609.629883</td>\n",
       "      <td>2076690000</td>\n",
       "    </tr>\n",
       "    <tr>\n",
       "      <th>1</th>\n",
       "      <td>2008-01-03</td>\n",
       "      <td>2611.959961</td>\n",
       "      <td>2624.270020</td>\n",
       "      <td>2592.179932</td>\n",
       "      <td>2602.679932</td>\n",
       "      <td>2602.679932</td>\n",
       "      <td>1970200000</td>\n",
       "    </tr>\n",
       "    <tr>\n",
       "      <th>2</th>\n",
       "      <td>2008-01-04</td>\n",
       "      <td>2571.080078</td>\n",
       "      <td>2571.080078</td>\n",
       "      <td>2502.679932</td>\n",
       "      <td>2504.649902</td>\n",
       "      <td>2504.649902</td>\n",
       "      <td>2516310000</td>\n",
       "    </tr>\n",
       "    <tr>\n",
       "      <th>3</th>\n",
       "      <td>2008-01-07</td>\n",
       "      <td>2514.149902</td>\n",
       "      <td>2521.620117</td>\n",
       "      <td>2471.229980</td>\n",
       "      <td>2499.459961</td>\n",
       "      <td>2499.459961</td>\n",
       "      <td>2600100000</td>\n",
       "    </tr>\n",
       "    <tr>\n",
       "      <th>4</th>\n",
       "      <td>2008-01-08</td>\n",
       "      <td>2506.969971</td>\n",
       "      <td>2527.419922</td>\n",
       "      <td>2440.510010</td>\n",
       "      <td>2440.510010</td>\n",
       "      <td>2440.510010</td>\n",
       "      <td>2566480000</td>\n",
       "    </tr>\n",
       "  </tbody>\n",
       "</table>\n",
       "</div>"
      ],
      "text/plain": [
       "         Date         Open         High          Low        Close  \\\n",
       "0  2008-01-02  2653.909912  2661.500000  2597.810059  2609.629883   \n",
       "1  2008-01-03  2611.959961  2624.270020  2592.179932  2602.679932   \n",
       "2  2008-01-04  2571.080078  2571.080078  2502.679932  2504.649902   \n",
       "3  2008-01-07  2514.149902  2521.620117  2471.229980  2499.459961   \n",
       "4  2008-01-08  2506.969971  2527.419922  2440.510010  2440.510010   \n",
       "\n",
       "     Adj Close      Volume  \n",
       "0  2609.629883  2076690000  \n",
       "1  2602.679932  1970200000  \n",
       "2  2504.649902  2516310000  \n",
       "3  2499.459961  2600100000  \n",
       "4  2440.510010  2566480000  "
      ]
     },
     "execution_count": 5,
     "metadata": {},
     "output_type": "execute_result"
    }
   ],
   "source": [
    "nasdaq.head()"
   ]
  },
  {
   "cell_type": "markdown",
   "metadata": {},
   "source": [
    "Showing the first five rows of the nasdaq data including adjusted close and number of stock traded on that day"
   ]
  },
  {
   "cell_type": "markdown",
   "metadata": {},
   "source": [
    "## Step 1: Data Munging"
   ]
  },
  {
   "cell_type": "code",
   "execution_count": 6,
   "metadata": {},
   "outputs": [],
   "source": [
    "# Due to the timezone issues, we extract and calculate appropriate stock market data for analysis\n",
    "# Indicepanel is the DataFrame of our trading model\n",
    "indicepanel=pd.DataFrame(index=spy.index)\n",
    "\n",
    "indicepanel['spy']=spy['Open'].shift(-1)-spy['Open']\n",
    "indicepanel['spy_lag1']=indicepanel['spy'].shift(1)\n",
    "indicepanel['sp500']=sp500[\"Open\"]-sp500['Open'].shift(1)\n",
    "indicepanel['nasdaq']=nasdaq['Open']-nasdaq['Open'].shift(1)\n",
    "indicepanel['dji']=dji['Open']-dji['Open'].shift(1)\n",
    "\n",
    "indicepanel['cac40']=cac40['Open']-cac40['Open'].shift(1)\n",
    "indicepanel['daxi']=daxi['Open']-daxi['Open'].shift(1)\n",
    "\n",
    "indicepanel['aord']=aord['Close']-aord['Open']\n",
    "indicepanel['hsi']=hsi['Close']-hsi['Open']\n",
    "indicepanel['nikkei']=nikkei['Close']-nikkei['Open']\n",
    "indicepanel['Price']=spy['Open']"
   ]
  },
  {
   "cell_type": "code",
   "execution_count": 7,
   "metadata": {},
   "outputs": [
    {
     "data": {
      "text/html": [
       "<div>\n",
       "<style scoped>\n",
       "    .dataframe tbody tr th:only-of-type {\n",
       "        vertical-align: middle;\n",
       "    }\n",
       "\n",
       "    .dataframe tbody tr th {\n",
       "        vertical-align: top;\n",
       "    }\n",
       "\n",
       "    .dataframe thead th {\n",
       "        text-align: right;\n",
       "    }\n",
       "</style>\n",
       "<table border=\"1\" class=\"dataframe\">\n",
       "  <thead>\n",
       "    <tr style=\"text-align: right;\">\n",
       "      <th></th>\n",
       "      <th>spy</th>\n",
       "      <th>spy_lag1</th>\n",
       "      <th>sp500</th>\n",
       "      <th>nasdaq</th>\n",
       "      <th>dji</th>\n",
       "      <th>cac40</th>\n",
       "      <th>daxi</th>\n",
       "      <th>aord</th>\n",
       "      <th>hsi</th>\n",
       "      <th>nikkei</th>\n",
       "      <th>Price</th>\n",
       "    </tr>\n",
       "  </thead>\n",
       "  <tbody>\n",
       "    <tr>\n",
       "      <th>0</th>\n",
       "      <td>-1.619995</td>\n",
       "      <td>NaN</td>\n",
       "      <td>NaN</td>\n",
       "      <td>NaN</td>\n",
       "      <td>NaN</td>\n",
       "      <td>NaN</td>\n",
       "      <td>NaN</td>\n",
       "      <td>15.500000</td>\n",
       "      <td>-71.679688</td>\n",
       "      <td>-464.320313</td>\n",
       "      <td>146.529999</td>\n",
       "    </tr>\n",
       "    <tr>\n",
       "      <th>1</th>\n",
       "      <td>-1.570008</td>\n",
       "      <td>-1.619995</td>\n",
       "      <td>-20.419922</td>\n",
       "      <td>-41.949951</td>\n",
       "      <td>-217.70019</td>\n",
       "      <td>-71.779785</td>\n",
       "      <td>-104.450195</td>\n",
       "      <td>-50.100097</td>\n",
       "      <td>-162.750000</td>\n",
       "      <td>-48.830078</td>\n",
       "      <td>144.910004</td>\n",
       "    </tr>\n",
       "    <tr>\n",
       "      <th>2</th>\n",
       "      <td>-1.529998</td>\n",
       "      <td>-1.570008</td>\n",
       "      <td>-3.540039</td>\n",
       "      <td>-40.879883</td>\n",
       "      <td>2.43945</td>\n",
       "      <td>5.489746</td>\n",
       "      <td>-27.990235</td>\n",
       "      <td>-2.300293</td>\n",
       "      <td>515.349609</td>\n",
       "      <td>99.370117</td>\n",
       "      <td>143.339996</td>\n",
       "    </tr>\n",
       "    <tr>\n",
       "      <th>3</th>\n",
       "      <td>0.270004</td>\n",
       "      <td>-1.529998</td>\n",
       "      <td>-29.940064</td>\n",
       "      <td>-56.930176</td>\n",
       "      <td>-245.40918</td>\n",
       "      <td>-111.689941</td>\n",
       "      <td>-102.709961</td>\n",
       "      <td>-117.399903</td>\n",
       "      <td>216.951171</td>\n",
       "      <td>234.450195</td>\n",
       "      <td>141.809998</td>\n",
       "    </tr>\n",
       "    <tr>\n",
       "      <th>4</th>\n",
       "      <td>-2.990006</td>\n",
       "      <td>0.270004</td>\n",
       "      <td>1.640015</td>\n",
       "      <td>-7.179931</td>\n",
       "      <td>19.75000</td>\n",
       "      <td>44.509766</td>\n",
       "      <td>33.680176</td>\n",
       "      <td>-27.500000</td>\n",
       "      <td>-354.060547</td>\n",
       "      <td>-158.209961</td>\n",
       "      <td>142.080002</td>\n",
       "    </tr>\n",
       "  </tbody>\n",
       "</table>\n",
       "</div>"
      ],
      "text/plain": [
       "        spy  spy_lag1      sp500     nasdaq        dji       cac40  \\\n",
       "0 -1.619995       NaN        NaN        NaN        NaN         NaN   \n",
       "1 -1.570008 -1.619995 -20.419922 -41.949951 -217.70019  -71.779785   \n",
       "2 -1.529998 -1.570008  -3.540039 -40.879883    2.43945    5.489746   \n",
       "3  0.270004 -1.529998 -29.940064 -56.930176 -245.40918 -111.689941   \n",
       "4 -2.990006  0.270004   1.640015  -7.179931   19.75000   44.509766   \n",
       "\n",
       "         daxi        aord         hsi      nikkei       Price  \n",
       "0         NaN   15.500000  -71.679688 -464.320313  146.529999  \n",
       "1 -104.450195  -50.100097 -162.750000  -48.830078  144.910004  \n",
       "2  -27.990235   -2.300293  515.349609   99.370117  143.339996  \n",
       "3 -102.709961 -117.399903  216.951171  234.450195  141.809998  \n",
       "4   33.680176  -27.500000 -354.060547 -158.209961  142.080002  "
      ]
     },
     "execution_count": 7,
     "metadata": {},
     "output_type": "execute_result"
    }
   ],
   "source": [
    "indicepanel.head()"
   ]
  },
  {
   "cell_type": "code",
   "execution_count": 8,
   "metadata": {},
   "outputs": [
    {
     "data": {
      "text/plain": [
       "spy          1\n",
       "spy_lag1     1\n",
       "sp500        1\n",
       "nasdaq       1\n",
       "dji          1\n",
       "cac40        3\n",
       "daxi        11\n",
       "aord         2\n",
       "hsi         57\n",
       "nikkei      57\n",
       "Price        0\n",
       "dtype: int64"
      ]
     },
     "execution_count": 8,
     "metadata": {},
     "output_type": "execute_result"
    }
   ],
   "source": [
    "#Checking whether we have NaN values in the indicepanel\n",
    "indicepanel.isnull().sum()"
   ]
  },
  {
   "cell_type": "markdown",
   "metadata": {},
   "source": [
    "Based on the above, each variable has NaN apart from price"
   ]
  },
  {
   "cell_type": "markdown",
   "metadata": {},
   "source": []
  }
 ],
 "metadata": {
  "kernelspec": {
   "display_name": "Python 3",
   "language": "python",
   "name": "python3"
  },
  "language_info": {
   "codemirror_mode": {
    "name": "ipython",
    "version": 3
   },
   "file_extension": ".py",
   "mimetype": "text/x-python",
   "name": "python",
   "nbconvert_exporter": "python",
   "pygments_lexer": "ipython3",
   "version": "3.10.12"
  }
 },
 "nbformat": 4,
 "nbformat_minor": 2
}
