{
 "cells": [
  {
   "cell_type": "markdown",
   "metadata": {},
   "source": [
    "# Multiple LInear Regression Model\n",
    "## Mimicking the process of building our trading model of SPY, base on the historical data of different stock markets. "
   ]
  },
  {
   "cell_type": "code",
   "execution_count": 2,
   "metadata": {},
   "outputs": [],
   "source": [
    "import pandas as pd\n",
    "import statsmodels.formula.api as smf\n",
    "import numpy as np\n",
    "import matplotlib.pyplot as plt\n",
    "%matplotlib inline"
   ]
  },
  {
   "cell_type": "code",
   "execution_count": 3,
   "metadata": {},
   "outputs": [],
   "source": [
    "import warnings \n",
    "warnings.filterwarnings(\"ignore\")"
   ]
  },
  {
   "cell_type": "code",
   "execution_count": 4,
   "metadata": {},
   "outputs": [],
   "source": [
    "#Import all stock market data into DataFrame\n",
    "aord = pd.read_csv('data/indice/ALLOrdinary.csv')\n",
    "nikkei = pd.read_csv('data/indice/Nikkei225.csv')\n",
    "hsi = pd.read_csv('data/indice/HSI.csv')\n",
    "daxi = pd.read_csv('data/indice/DAXI.csv')\n",
    "cac40 = pd.read_csv('data/indice/CAC40.csv')\n",
    "sp500 = pd.read_csv('data/indice/SP500.csv')\n",
    "dji = pd.read_csv('data/indice/DJI.csv')\n",
    "nasdaq = pd.read_csv('data/indice/nasdaq_composite.csv')\n",
    "spy = pd.read_csv('data/indice/SPY.csv')"
   ]
  },
  {
   "cell_type": "markdown",
   "metadata": {},
   "source": []
  }
 ],
 "metadata": {
  "kernelspec": {
   "display_name": "Python 3",
   "language": "python",
   "name": "python3"
  },
  "language_info": {
   "codemirror_mode": {
    "name": "ipython",
    "version": 3
   },
   "file_extension": ".py",
   "mimetype": "text/x-python",
   "name": "python",
   "nbconvert_exporter": "python",
   "pygments_lexer": "ipython3",
   "version": "3.10.12"
  }
 },
 "nbformat": 4,
 "nbformat_minor": 2
}
